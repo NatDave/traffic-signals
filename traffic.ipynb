{
  "nbformat": 4,
  "nbformat_minor": 0,
  "metadata": {
    "colab": {
      "provenance": []
    },
    "kernelspec": {
      "name": "python3",
      "display_name": "Python 3"
    },
    "language_info": {
      "name": "python"
    }
  },
  "cells": [
    {
      "cell_type": "code",
      "source": [
        "def generate_conflict_matrix(traffic_streams, conflict_info):\n",
        "    # Initialize an empty conflict matrix\n",
        "    conflict_matrix = []\n",
        "\n",
        "    # Iterate over each traffic stream\n",
        "    for stream1 in traffic_streams:\n",
        "        row = []\n",
        "        # Check conflict with other streams\n",
        "        for stream2 in traffic_streams:\n",
        "            if stream1 == stream2:\n",
        "                # Pedestrian streams never conflict\n",
        "                row.append(\" \")\n",
        "            elif stream1.isdigit() and stream2.isdigit():\n",
        "                # Vehicular streams can conflict with each other or with pedestrian streams\n",
        "                if conflict_info.get(stream1, {}).get(stream2, False):\n",
        "                    row.append(\"*\")\n",
        "                else:\n",
        "                    row.append(\" \")\n",
        "            else:\n",
        "                # Pedestrian stream can never be in conflict with another pedestrian stream\n",
        "                row.append(\" \")\n",
        "        conflict_matrix.append(row)\n",
        "\n",
        "    return conflict_matrix\n",
        "\n",
        "def display_conflict_matrix(conflict_matrix, traffic_streams):\n",
        "    # Display the conflict matrix\n",
        "    print(\"\\nConflict Matrix:\")\n",
        "    print(f\"{'':^3} | {' | '.join([f'{stream:^3}' for stream in traffic_streams])} |\")\n",
        "    print(\"-\" * (5 + 6 * len(traffic_streams)))\n",
        "    for i, row in enumerate(conflict_matrix):\n",
        "        print(f\"{traffic_streams[i]:^3} | {' | '.join([f'{cell:^3}' for cell in row])} |\")\n",
        "\n",
        "\n",
        "\n",
        "\n",
        "def main():\n",
        "    # Get input from user\n",
        "    traffic_streams = input(\"Enter the list of traffic streams (separated by spaces): \").split()\n",
        "    conflict_info = {stream: {} for stream in traffic_streams}\n",
        "\n",
        "    # Prompt for conflicts for each stream one after the other\n",
        "    for i, stream1 in enumerate(traffic_streams):\n",
        "        conflicting_streams = input(f\"Enter conflicting stream(s) for stream {stream1}, separated by space, or press enter to finish: \")\n",
        "        if conflicting_streams:\n",
        "            conflicting_streams = conflicting_streams.split()\n",
        "            for stream2 in conflicting_streams:\n",
        "                # Update conflict_info symmetrically\n",
        "                conflict_info[stream1][stream2] = True\n",
        "                conflict_info[stream2][stream1] = True\n",
        "\n",
        "    # Generate conflict matrix\n",
        "    conflict_matrix = generate_conflict_matrix(traffic_streams, conflict_info)\n",
        "\n",
        "    # Display conflict matrix\n",
        "    display_conflict_matrix(conflict_matrix, traffic_streams)\n",
        "\n",
        "if __name__ == \"__main__\":\n",
        "    main()"
      ],
      "metadata": {
        "colab": {
          "base_uri": "https://localhost:8080/"
        },
        "id": "OfVSR-vsaPZx",
        "outputId": "e5d71168-8ea9-4831-9840-b625c5f7edc7"
      },
      "execution_count": null,
      "outputs": [
        {
          "output_type": "stream",
          "name": "stdout",
          "text": [
            "Enter the list of traffic streams (separated by spaces): 1 2 3 4 5 6 7 8\n",
            "Enter conflicting stream(s) for stream 1, separated by space, or press enter to finish: 2 3 4 7 8\n",
            "Enter conflicting stream(s) for stream 2, separated by space, or press enter to finish: 3 4 7 8\n",
            "Enter conflicting stream(s) for stream 3, separated by space, or press enter to finish: \n",
            "Enter conflicting stream(s) for stream 4, separated by space, or press enter to finish: \n",
            "Enter conflicting stream(s) for stream 5, separated by space, or press enter to finish: \n",
            "Enter conflicting stream(s) for stream 6, separated by space, or press enter to finish: \n",
            "Enter conflicting stream(s) for stream 7, separated by space, or press enter to finish: \n",
            "Enter conflicting stream(s) for stream 8, separated by space, or press enter to finish: \n",
            "\n",
            "Conflict Matrix:\n",
            "    |  1  |  2  |  3  |  4  |  5  |  6  |  7  |  8  |\n",
            "-----------------------------------------------------\n",
            " 1  |     |  *  |  *  |  *  |     |     |  *  |  *  |\n",
            " 2  |  *  |     |  *  |  *  |     |     |  *  |  *  |\n",
            " 3  |  *  |  *  |     |     |     |     |     |     |\n",
            " 4  |  *  |  *  |     |     |     |     |     |     |\n",
            " 5  |     |     |     |     |     |     |     |     |\n",
            " 6  |     |     |     |     |     |     |     |     |\n",
            " 7  |  *  |  *  |     |     |     |     |     |     |\n",
            " 8  |  *  |  *  |     |     |     |     |     |     |\n"
          ]
        }
      ]
    }
  ]
}